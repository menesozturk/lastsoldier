{
 "cells": [
  {
   "cell_type": "code",
   "execution_count": 4,
   "metadata": {},
   "outputs": [
    {
     "name": "stdout",
     "output_type": "stream",
     "text": [
      "Asker sayısını giriniz --> 10000\n",
      "Sağ kurtulan asker --> 3617. askerdir.\n"
     ]
    }
   ],
   "source": [
    "def sonuncuasker(soldiers):#Bu fonksiyon da soldiers değişkininin değerine kadar sayida askerin dairesel ates sonucu son kalan askeri verir.\n",
    "    askerler = list(range(1, soldiers + 1)) # Asker sayisi uzunlugunda bir list oluşturuluyor.\n",
    "    while len(askerler) > 1: # Asker listesindeki uzunluktan 1'den fazla oldugu surece islem devam edicek.\n",
    "        for index, _ in enumerate(askerler):\n",
    "            del askerler[(index + 1) % len(askerler)] # Her askerin yanindaki askeri listeden silicek.\n",
    "    return askerler[0] # En son kalan askeri return edicek.\n",
    "\n",
    "sayi=input(\"Asker sayısını giriniz --> \") # Asker sayisini kullanıcıdan alıyoruz.\n",
    "soldiers=int(sayi) # soldiers degiskenini integer türünden bir degişken olarak belirliyoruz.\n",
    "print(\"Sağ kurtulan asker --> \" + str(sonuncuasker(soldiers)) + \". askerdir.\") # soldiers degiskenini sonuncuasker fonksiyonuna yollayıp,ekrana yazıyoruz."
   ]
  },
  {
   "cell_type": "code",
   "execution_count": 1,
   "metadata": {},
   "outputs": [
    {
     "name": "stdout",
     "output_type": "stream",
     "text": [
      "Asker sayısını giriniz --> 3\n",
      "Sağ kurtulan asker --> 3. askerdir.\n"
     ]
    }
   ],
   "source": [
    "def sonuncuasker(soldiers):#Bu fonksiyon da soldiers değişkininin değerine kadar sayida askerin dairesel ates sonucu son kalan askeri verir.\n",
    "    askerler = list(range(1, soldiers + 1)) # Asker sayisi uzunlugunda bir list oluşturuluyor.\n",
    "    while len(askerler) > 1: # Asker listesindeki uzunluktan 1'den fazla oldugu surece islem devam edicek.\n",
    "        for index, _ in enumerate(askerler):\n",
    "            del askerler[(index + 1) % len(askerler)] # Her askerin yanindaki askeri listeden silicek.\n",
    "    return askerler[0] # En son kalan askeri return edicek.\n",
    "\n",
    "sayi=input(\"Asker sayısını giriniz --> \") # Asker sayisini kullanıcıdan alıyoruz.\n",
    "soldiers=int(sayi) # soldiers degiskenini integer türünden bir degişken olarak belirliyoruz.\n",
    "print(\"Sağ kurtulan asker --> \" + str(sonuncuasker(soldiers)) + \". askerdir.\") # soldiers degiskenini sonuncuasker fonksiyonuna yollayıp,ekrana yazıyoruz."
   ]
  },
  {
   "cell_type": "code",
   "execution_count": null,
   "metadata": {},
   "outputs": [],
   "source": []
  }
 ],
 "metadata": {
  "kernelspec": {
   "display_name": "Python 3",
   "language": "python",
   "name": "python3"
  },
  "language_info": {
   "codemirror_mode": {
    "name": "ipython",
    "version": 3
   },
   "file_extension": ".py",
   "mimetype": "text/x-python",
   "name": "python",
   "nbconvert_exporter": "python",
   "pygments_lexer": "ipython3",
   "version": "3.7.4"
  }
 },
 "nbformat": 4,
 "nbformat_minor": 2
}
